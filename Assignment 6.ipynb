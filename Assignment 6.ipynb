{
 "cells": [
  {
   "cell_type": "markdown",
   "metadata": {},
   "source": [
    "# Assignment 6 (DS-542)\n",
    "__Due on 02/10/2020 @ 6:00 PM (10 + 2 points)__\n",
    "\n",
    "\n",
    "## _Ankur Patel_"
   ]
  },
  {
   "cell_type": "markdown",
   "metadata": {},
   "source": [
    "### 1. print 200"
   ]
  },
  {
   "cell_type": "code",
   "execution_count": 1,
   "metadata": {},
   "outputs": [
    {
     "name": "stdout",
     "output_type": "stream",
     "text": [
      "10\n"
     ]
    }
   ],
   "source": [
    "def proc(x):\n",
    "    x = 2*x*x\n",
    "    \n",
    "def main():\n",
    "    num = 10\n",
    "    proc(num)\n",
    "    print(num)\n",
    "    \n",
    "main()"
   ]
  },
  {
   "cell_type": "code",
   "execution_count": 8,
   "metadata": {},
   "outputs": [
    {
     "name": "stdout",
     "output_type": "stream",
     "text": [
      "200\n"
     ]
    }
   ],
   "source": [
    "def proc(x):\n",
    "    x = 2*x*x\n",
    "    return x\n",
    "    \n",
    "def main():\n",
    "    num = 10\n",
    "    proc(num)\n",
    "    print(proc(num))\n",
    "    \n",
    "main()"
   ]
  },
  {
   "cell_type": "markdown",
   "metadata": {},
   "source": [
    "### 2. distance"
   ]
  },
  {
   "cell_type": "code",
   "execution_count": 11,
   "metadata": {},
   "outputs": [],
   "source": [
    "import math\n",
    "def distance(X1, Y1, X2, Y2):\n",
    "    return math.sqrt(((X1-X2)**2)+((Y1-Y2)**2))"
   ]
  },
  {
   "cell_type": "code",
   "execution_count": 12,
   "metadata": {
    "scrolled": true
   },
   "outputs": [
    {
     "data": {
      "text/plain": [
       "6.324555320336759"
      ]
     },
     "execution_count": 12,
     "metadata": {},
     "output_type": "execute_result"
    }
   ],
   "source": [
    "distance(4,0,6,6)"
   ]
  },
  {
   "cell_type": "markdown",
   "metadata": {},
   "source": [
    "### 3. numbers.txt"
   ]
  },
  {
   "cell_type": "code",
   "execution_count": 14,
   "metadata": {},
   "outputs": [],
   "source": [
    "text = list(range(100))\n",
    "with open('numbers.txt', 'w') as f:\n",
    "    for i in text:\n",
    "        f.write(\"%s\\n\" % i)"
   ]
  },
  {
   "cell_type": "markdown",
   "metadata": {},
   "source": [
    "### 4. lst = [10,-4,11,29]"
   ]
  },
  {
   "cell_type": "code",
   "execution_count": 23,
   "metadata": {},
   "outputs": [
    {
     "name": "stdout",
     "output_type": "stream",
     "text": [
      "a.  10\n",
      "b.  29\n",
      "c.  10\n",
      "d.  29\n",
      "e.  -4\n",
      "f.  29\n",
      "g.  10\n",
      "h. illegal\n"
     ]
    },
    {
     "ename": "TypeError",
     "evalue": "list indices must be integers or slices, not tuple",
     "output_type": "error",
     "traceback": [
      "\u001b[1;31m---------------------------------------------------------------------------\u001b[0m",
      "\u001b[1;31mTypeError\u001b[0m                                 Traceback (most recent call last)",
      "\u001b[1;32m<ipython-input-23-fbe95e7c9cb4>\u001b[0m in \u001b[0;36m<module>\u001b[1;34m\u001b[0m\n\u001b[0;32m      8\u001b[0m \u001b[0mprint\u001b[0m\u001b[1;33m(\u001b[0m\u001b[1;34m\"g. \"\u001b[0m\u001b[1;33m,\u001b[0m \u001b[0mlst\u001b[0m\u001b[1;33m[\u001b[0m\u001b[1;33m-\u001b[0m\u001b[1;36m4\u001b[0m\u001b[1;33m]\u001b[0m\u001b[1;33m)\u001b[0m\u001b[1;33m\u001b[0m\u001b[1;33m\u001b[0m\u001b[0m\n\u001b[0;32m      9\u001b[0m \u001b[0mprint\u001b[0m\u001b[1;33m(\u001b[0m\u001b[1;34m\"h. illegal\"\u001b[0m\u001b[1;33m)\u001b[0m\u001b[1;33m\u001b[0m\u001b[1;33m\u001b[0m\u001b[0m\n\u001b[1;32m---> 10\u001b[1;33m \u001b[0mprint\u001b[0m\u001b[1;33m(\u001b[0m\u001b[1;34m\"h. \"\u001b[0m\u001b[1;33m,\u001b[0m \u001b[0mlst\u001b[0m\u001b[1;33m[\u001b[0m\u001b[1;36m3\u001b[0m\u001b[1;33m,\u001b[0m\u001b[1;36m0\u001b[0m\u001b[1;33m]\u001b[0m\u001b[1;33m)\u001b[0m\u001b[1;33m\u001b[0m\u001b[1;33m\u001b[0m\u001b[0m\n\u001b[0m",
      "\u001b[1;31mTypeError\u001b[0m: list indices must be integers or slices, not tuple"
     ]
    }
   ],
   "source": [
    "lst = [10,-4,11,29]\n",
    "print(\"a. \", lst[0])\n",
    "print(\"b. \", lst[-1])\n",
    "print(\"c. \", lst[0])\n",
    "print(\"d. \", lst[3])\n",
    "print(\"e. \", lst[1])\n",
    "print(\"f. \", lst[-1])\n",
    "print(\"g. \", lst[-4])\n",
    "print(\"h. illegal\")\n",
    "print(\"h. \", lst[3,0]) "
   ]
  },
  {
   "cell_type": "markdown",
   "metadata": {},
   "source": [
    "### 5. lst = [20,1,-34,40,-8,60,1,3]"
   ]
  },
  {
   "cell_type": "code",
   "execution_count": 26,
   "metadata": {},
   "outputs": [
    {
     "name": "stdout",
     "output_type": "stream",
     "text": [
      "a.  20\n",
      "b.  [20, 1, -34]\n",
      "c.  [-8, 60, 1, 3]\n",
      "d.  [-8, 60, 1, 3]\n",
      "e.  [40, -8]\n",
      "f.  [20, 1, -34]\n",
      "g.  [-8, 60, 1, 3]\n",
      "h.  [20, 1, -34, 40, -8, 60, 1, 3]\n",
      "i.  [20, 1, -34, 40]\n",
      "j.  [1, -34, 40, -8]\n",
      "len(lst): 8\n"
     ]
    }
   ],
   "source": [
    "lst = [20,1,-34,40,-8,60,1,3]\n",
    "print(\"a. \", lst[0])\n",
    "print(\"b. \", lst[0:3])\n",
    "print(\"c. \", lst[4:8])\n",
    "print(\"d. \", lst[4:33])\n",
    "print(\"e. \", lst[-5:-3])\n",
    "print(\"f. \", lst[-22:3])\n",
    "print(\"g. \", lst[4:])\n",
    "print(\"h. \", lst[:])\n",
    "print(\"i. \", lst[:4])\n",
    "print(\"j. \", lst[1:5])\n",
    "print(\"len(lst):\", len(lst)) "
   ]
  },
  {
   "cell_type": "markdown",
   "metadata": {},
   "source": [
    "### 6. list"
   ]
  },
  {
   "cell_type": "code",
   "execution_count": 30,
   "metadata": {},
   "outputs": [
    {
     "name": "stdout",
     "output_type": "stream",
     "text": [
      "a. [8]*4 = [8, 8, 8, 8]\n",
      "b. 6*[2,7] = [2, 7, 2, 7, 2, 7, 2, 7, 2, 7, 2, 7]\n",
      "c. [1,2,3]+['a','b','c','d'] = [1, 2, 3, 'a', 'b', 'c', 'd']\n",
      "d. 3*[1,2]+[4,2] = [1, 2, 1, 2, 1, 2, 4, 2]\n",
      "e. 3*([1,2]+[4,2]) = [1, 2, 4, 2, 1, 2, 4, 2, 1, 2, 4, 2]\n"
     ]
    }
   ],
   "source": [
    "print(\"a. [8]*4 =\", [8]*4)\n",
    "print(\"b. 6*[2,7] =\", 6*[2,7])\n",
    "print(\"c. [1,2,3]+['a','b','c','d'] =\", [1,2,3]+['a','b','c','d'])\n",
    "print(\"d. 3*[1,2]+[4,2] =\", 3*[1,2]+[4,2])\n",
    "print(\"e. 3*([1,2]+[4,2]) =\", 3*([1,2]+[4,2]))"
   ]
  },
  {
   "cell_type": "markdown",
   "metadata": {},
   "source": [
    "### 7. five different lists"
   ]
  },
  {
   "cell_type": "code",
   "execution_count": 49,
   "metadata": {},
   "outputs": [
    {
     "name": "stdout",
     "output_type": "stream",
     "text": [
      "1.\n",
      " [1, 2, 3, 4, 5, 6, 7, 8, 9, 10]\n",
      "\n",
      "2.\n",
      "1 2 3 4 5 6 7 8 9 10 \n",
      "\n",
      "3.\n",
      "1 2 3 4 5 6 7 8 9 10 \n",
      "\n",
      "4.\n",
      " 1 2 3 4 5 6 7 8 9 10\n",
      "\n",
      "5.\n",
      " 1 2 3 4 5 6 7 8 9 10\n"
     ]
    }
   ],
   "source": [
    "lst = [1,2,3,4,5,6,7,8,9,10]\n",
    "print(\"1.\\n\", lst)\n",
    "print(\"\\n2.\")\n",
    "for i in range(1, 11): \n",
    "    print(i, end=\" \")\n",
    "print(\"\\n\\n3.\")\n",
    "for x in range(len(lst)): \n",
    "    print(lst[x], end=\" \")\n",
    "print(\"\\n\\n4.\\n\", *lst) \n",
    "print(\"\\n5.\\n\", \" \".join(map(str,lst)))"
   ]
  },
  {
   "cell_type": "markdown",
   "metadata": {},
   "source": [
    "### 8. tuple - list"
   ]
  },
  {
   "cell_type": "code",
   "execution_count": 58,
   "metadata": {},
   "outputs": [
    {
     "name": "stdout",
     "output_type": "stream",
     "text": [
      "List:\n",
      "['apples', 'bananas', 'oranges']\n",
      "['orange', 'bananas', 'oranges']\n"
     ]
    }
   ],
   "source": [
    "print(\"List:\")\n",
    "a = [\"apples\", \"bananas\", \"oranges\"]\n",
    "print(a)\n",
    "a[0] = \"orange\"\n",
    "print(a)"
   ]
  },
  {
   "cell_type": "code",
   "execution_count": 59,
   "metadata": {
    "scrolled": true
   },
   "outputs": [
    {
     "ename": "SyntaxError",
     "evalue": "can't assign to function call (<ipython-input-59-80b5038253a5>, line 4)",
     "output_type": "error",
     "traceback": [
      "\u001b[1;36m  File \u001b[1;32m\"<ipython-input-59-80b5038253a5>\"\u001b[1;36m, line \u001b[1;32m4\u001b[0m\n\u001b[1;33m    a(0) = \"orange\"\u001b[0m\n\u001b[1;37m                   ^\u001b[0m\n\u001b[1;31mSyntaxError\u001b[0m\u001b[1;31m:\u001b[0m can't assign to function call\n"
     ]
    }
   ],
   "source": [
    "print(\"Tuple:\")\n",
    "a = (\"apples\", \"bananas\", \"oranges\")\n",
    "print(a)\n",
    "a(0) = \"orange\"  #immutable, can't assign an element in tuple\n",
    "print(a)"
   ]
  },
  {
   "cell_type": "markdown",
   "metadata": {},
   "source": [
    "### 9. tuple - list"
   ]
  },
  {
   "cell_type": "code",
   "execution_count": 94,
   "metadata": {
    "scrolled": true
   },
   "outputs": [
    {
     "name": "stdout",
     "output_type": "stream",
     "text": [
      "Tuple:\n",
      "numberS = (1, 2, 'three') \n",
      "numberZ = (4, 5, 6)\n",
      "numberS[2] = three\n",
      "numberS.index(2) = 1\n",
      "\n",
      "List:\n",
      "nums = [1, 2, 'three']\n",
      "nums[2] = three\n",
      "nums.index(2) = 1\n"
     ]
    }
   ],
   "source": [
    "numberS = (1,2,'three')\n",
    "numberZ = 4,5,6\n",
    "\n",
    "print(\"Tuple:\\nnumberS =\", numberS, \"\\nnumberZ =\", numberZ)\n",
    "print(\"numberS[2] =\", numberS[2])\n",
    "print(\"numberS.index(2) =\", numberS.index(2))\n",
    "\n",
    "nums = [1,2,\"three\"]\n",
    "print(\"\\nList:\\nnums =\", nums)\n",
    "print(\"nums[2] =\", nums[2])\n",
    "print(\"nums.index(2) =\", nums.index(2))"
   ]
  },
  {
   "cell_type": "code",
   "execution_count": 2,
   "metadata": {},
   "outputs": [
    {
     "data": {
      "text/plain": [
       "([1, 2], [3, 4], [5, 6])"
      ]
     },
     "execution_count": 2,
     "metadata": {},
     "output_type": "execute_result"
    }
   ],
   "source": [
    "mytuple = ([1,2],[3,4],[5,6])\n",
    "mytuple"
   ]
  },
  {
   "cell_type": "code",
   "execution_count": 5,
   "metadata": {},
   "outputs": [
    {
     "name": "stdout",
     "output_type": "stream",
     "text": [
      "[1, 2]\n",
      "1\n"
     ]
    }
   ],
   "source": [
    "print(mytuple[0])\n",
    "print(mytuple[0][0])"
   ]
  },
  {
   "cell_type": "code",
   "execution_count": 7,
   "metadata": {},
   "outputs": [
    {
     "data": {
      "text/plain": [
       "[(1, 2, 3), (4, 5, 6)]"
      ]
     },
     "execution_count": 7,
     "metadata": {},
     "output_type": "execute_result"
    }
   ],
   "source": [
    "mylist=[(1,2,3),(4,5,6)]\n",
    "mylist"
   ]
  },
  {
   "cell_type": "code",
   "execution_count": 8,
   "metadata": {},
   "outputs": [
    {
     "name": "stdout",
     "output_type": "stream",
     "text": [
      "(1, 2, 3)\n",
      "1\n"
     ]
    }
   ],
   "source": [
    "print(mylist[0])\n",
    "print(mylist[0][0])"
   ]
  },
  {
   "cell_type": "markdown",
   "metadata": {},
   "source": [
    "### 10. product\n",
    "#### _Extra Credit_"
   ]
  },
  {
   "cell_type": "code",
   "execution_count": 105,
   "metadata": {},
   "outputs": [],
   "source": [
    "import numpy as np\n",
    "def product(*args):\n",
    "    return np.prod(args)"
   ]
  },
  {
   "cell_type": "code",
   "execution_count": 107,
   "metadata": {},
   "outputs": [
    {
     "data": {
      "text/plain": [
       "50.0"
      ]
     },
     "execution_count": 107,
     "metadata": {},
     "output_type": "execute_result"
    }
   ],
   "source": [
    "product(2.5,2,10.0)"
   ]
  },
  {
   "cell_type": "code",
   "execution_count": 108,
   "metadata": {},
   "outputs": [
    {
     "data": {
      "text/plain": [
       "1.0"
      ]
     },
     "execution_count": 108,
     "metadata": {},
     "output_type": "execute_result"
    }
   ],
   "source": [
    "product()"
   ]
  }
 ],
 "metadata": {
  "kernelspec": {
   "display_name": "Python 3",
   "language": "python",
   "name": "python3"
  },
  "language_info": {
   "codemirror_mode": {
    "name": "ipython",
    "version": 3
   },
   "file_extension": ".py",
   "mimetype": "text/x-python",
   "name": "python",
   "nbconvert_exporter": "python",
   "pygments_lexer": "ipython3",
   "version": "3.7.3"
  }
 },
 "nbformat": 4,
 "nbformat_minor": 2
}
