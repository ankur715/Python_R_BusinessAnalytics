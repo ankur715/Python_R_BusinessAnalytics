{
 "cells": [
  {
   "cell_type": "markdown",
   "metadata": {},
   "source": [
    "# Assignment 5 (DS-542)\n",
    "__Due on 01/27/2020 @ 6:00 PM (10 + 2 points)__\n",
    "\n",
    "\n",
    "## _Ankur Patel_"
   ]
  },
  {
   "cell_type": "markdown",
   "metadata": {},
   "source": [
    "### 1. Largest of 3 input numbers:"
   ]
  },
  {
   "cell_type": "code",
   "execution_count": 2,
   "metadata": {},
   "outputs": [
    {
     "name": "stdout",
     "output_type": "stream",
     "text": [
      "Please enter your first number:1\n",
      "Please enter your second number:2\n",
      "Please enter your third number:3\n",
      "3.0\n"
     ]
    }
   ],
   "source": [
    "a = float(input(\"Please enter your first number:\"))\n",
    "b = float(input(\"Please enter your second number:\"))\n",
    "c = float(input(\"Please enter your third number:\"))\n",
    "\n",
    "\n",
    "def maximum(a, b, c): \n",
    "    list = [a, b, c] \n",
    "    return max(list) \n",
    "  \n",
    "print(maximum(a, b, c)) "
   ]
  },
  {
   "cell_type": "markdown",
   "metadata": {},
   "source": [
    "### 2.  Same output?\n",
    "x = 7  \n",
    "print(x)  \n",
    "print(\"x\")"
   ]
  },
  {
   "cell_type": "code",
   "execution_count": 4,
   "metadata": {},
   "outputs": [
    {
     "name": "stdout",
     "output_type": "stream",
     "text": [
      "7\n",
      "x\n"
     ]
    }
   ],
   "source": [
    "x = 7\n",
    "print(x)\n",
    "print(\"x\")\n",
    "\n",
    "# No because first prints the variable x assigned as 7, while second prints the string x"
   ]
  },
  {
   "cell_type": "markdown",
   "metadata": {},
   "source": [
    "### 3. Unassigned variable:"
   ]
  },
  {
   "cell_type": "code",
   "execution_count": 6,
   "metadata": {},
   "outputs": [
    {
     "name": "stdout",
     "output_type": "stream",
     "text": [
      "Previously assigned x:\n",
      " 10\n"
     ]
    },
    {
     "ename": "NameError",
     "evalue": "name 'y' is not defined",
     "output_type": "error",
     "traceback": [
      "\u001b[1;31m---------------------------------------------------------------------------\u001b[0m",
      "\u001b[1;31mNameError\u001b[0m                                 Traceback (most recent call last)",
      "\u001b[1;32m<ipython-input-6-dd494d673988>\u001b[0m in \u001b[0;36m<module>\u001b[1;34m\u001b[0m\n\u001b[0;32m      1\u001b[0m \u001b[0mprint\u001b[0m\u001b[1;33m(\u001b[0m\u001b[1;34m\"Previously assigned x:\\n\"\u001b[0m\u001b[1;33m,\u001b[0m \u001b[0mx\u001b[0m\u001b[1;33m+\u001b[0m\u001b[1;36m3\u001b[0m\u001b[1;33m)\u001b[0m\u001b[1;33m\u001b[0m\u001b[1;33m\u001b[0m\u001b[0m\n\u001b[1;32m----> 2\u001b[1;33m \u001b[0mprint\u001b[0m\u001b[1;33m(\u001b[0m\u001b[1;34m\"Unassigned y:\\n\"\u001b[0m\u001b[1;33m,\u001b[0m \u001b[0my\u001b[0m\u001b[1;33m+\u001b[0m\u001b[1;36m3\u001b[0m\u001b[1;33m)\u001b[0m\u001b[1;33m\u001b[0m\u001b[1;33m\u001b[0m\u001b[0m\n\u001b[0m",
      "\u001b[1;31mNameError\u001b[0m: name 'y' is not defined"
     ]
    }
   ],
   "source": [
    "print(\"Previously assigned x:\\n\", x+3)\n",
    "print(\"Unassigned y:\\n\", y+3)"
   ]
  },
  {
   "cell_type": "markdown",
   "metadata": {},
   "source": [
    "### 4. If input between 1 and 100 inclusive:"
   ]
  },
  {
   "cell_type": "code",
   "execution_count": 11,
   "metadata": {},
   "outputs": [
    {
     "name": "stdout",
     "output_type": "stream",
     "text": [
      "Please enter a number between 1 and 100 inclusive:100\n",
      "OK\n"
     ]
    }
   ],
   "source": [
    "a = int(input(\"Please enter a number between 1 and 100 inclusive:\"))\n",
    "\n",
    "if a >= 1 and a <= 100:\n",
    "    print(\"OK\")\n",
    "else:\n",
    "    pass"
   ]
  },
  {
   "cell_type": "markdown",
   "metadata": {},
   "source": [
    "### 5. Programs with inputs:"
   ]
  },
  {
   "cell_type": "code",
   "execution_count": 19,
   "metadata": {},
   "outputs": [
    {
     "name": "stdout",
     "output_type": "stream",
     "text": [
      "0\n",
      "****\n"
     ]
    }
   ],
   "source": [
    "n = int(input())\n",
    "if n < 1000:\n",
    "    print(\"*\", end=\"\")\n",
    "if n < 100:\n",
    "    print(\"*\", end=\"\")\n",
    "if n < 10:\n",
    "    print(\"*\", end=\"\")\n",
    "if n < 1:\n",
    "    print(\"*\", end=\"\")\n",
    "print()   "
   ]
  },
  {
   "cell_type": "code",
   "execution_count": 20,
   "metadata": {},
   "outputs": [
    {
     "name": "stdout",
     "output_type": "stream",
     "text": [
      "1\n",
      "***\n"
     ]
    }
   ],
   "source": [
    "n = int(input())\n",
    "if n < 1000:\n",
    "    print(\"*\", end=\"\")\n",
    "if n < 100:\n",
    "    print(\"*\", end=\"\")\n",
    "if n < 10:\n",
    "    print(\"*\", end=\"\")\n",
    "if n < 1:\n",
    "    print(\"*\", end=\"\")\n",
    "print()   "
   ]
  },
  {
   "cell_type": "code",
   "execution_count": 21,
   "metadata": {},
   "outputs": [
    {
     "name": "stdout",
     "output_type": "stream",
     "text": [
      "5\n",
      "***\n"
     ]
    }
   ],
   "source": [
    "n = int(input())\n",
    "if n < 1000:\n",
    "    print(\"*\", end=\"\")\n",
    "if n < 100:\n",
    "    print(\"*\", end=\"\")\n",
    "if n < 10:\n",
    "    print(\"*\", end=\"\")\n",
    "if n < 1:\n",
    "    print(\"*\", end=\"\")\n",
    "print()   "
   ]
  },
  {
   "cell_type": "code",
   "execution_count": 22,
   "metadata": {},
   "outputs": [
    {
     "name": "stdout",
     "output_type": "stream",
     "text": [
      "50\n",
      "**\n"
     ]
    }
   ],
   "source": [
    "n = int(input())\n",
    "if n < 1000:\n",
    "    print(\"*\", end=\"\")\n",
    "if n < 100:\n",
    "    print(\"*\", end=\"\")\n",
    "if n < 10:\n",
    "    print(\"*\", end=\"\")\n",
    "if n < 1:\n",
    "    print(\"*\", end=\"\")\n",
    "print()   "
   ]
  },
  {
   "cell_type": "code",
   "execution_count": 23,
   "metadata": {},
   "outputs": [
    {
     "name": "stdout",
     "output_type": "stream",
     "text": [
      "500\n",
      "*\n"
     ]
    }
   ],
   "source": [
    "n = int(input())\n",
    "if n < 1000:\n",
    "    print(\"*\", end=\"\")\n",
    "if n < 100:\n",
    "    print(\"*\", end=\"\")\n",
    "if n < 10:\n",
    "    print(\"*\", end=\"\")\n",
    "if n < 1:\n",
    "    print(\"*\", end=\"\")\n",
    "print()   "
   ]
  },
  {
   "cell_type": "code",
   "execution_count": 24,
   "metadata": {},
   "outputs": [
    {
     "name": "stdout",
     "output_type": "stream",
     "text": [
      "5000\n",
      "\n"
     ]
    }
   ],
   "source": [
    "n = int(input())\n",
    "if n < 1000:\n",
    "    print(\"*\", end=\"\")\n",
    "if n < 100:\n",
    "    print(\"*\", end=\"\")\n",
    "if n < 10:\n",
    "    print(\"*\", end=\"\")\n",
    "if n < 1:\n",
    "    print(\"*\", end=\"\")\n",
    "print()   "
   ]
  },
  {
   "cell_type": "code",
   "execution_count": 25,
   "metadata": {},
   "outputs": [
    {
     "name": "stdout",
     "output_type": "stream",
     "text": [
      "0\n",
      "*\n"
     ]
    }
   ],
   "source": [
    "n = int(input())\n",
    "if n < 1000:\n",
    "    print(\"*\", end=\"\")\n",
    "elif n < 100:\n",
    "    print(\"*\", end=\"\")\n",
    "elif n < 10:\n",
    "    print(\"*\", end=\"\")\n",
    "elif n < 1:\n",
    "    print(\"*\", end=\"\")\n",
    "print()   "
   ]
  },
  {
   "cell_type": "code",
   "execution_count": 26,
   "metadata": {},
   "outputs": [
    {
     "name": "stdout",
     "output_type": "stream",
     "text": [
      "1\n",
      "*\n"
     ]
    }
   ],
   "source": [
    "n = int(input())\n",
    "if n < 1000:\n",
    "    print(\"*\", end=\"\")\n",
    "elif n < 100:\n",
    "    print(\"*\", end=\"\")\n",
    "elif n < 10:\n",
    "    print(\"*\", end=\"\")\n",
    "elif n < 1:\n",
    "    print(\"*\", end=\"\")\n",
    "print()   "
   ]
  },
  {
   "cell_type": "code",
   "execution_count": 29,
   "metadata": {},
   "outputs": [
    {
     "name": "stdout",
     "output_type": "stream",
     "text": [
      "500\n",
      "*\n"
     ]
    }
   ],
   "source": [
    "n = int(input())\n",
    "if n < 1000:\n",
    "    print(\"*\", end=\"\")\n",
    "elif n < 100:\n",
    "    print(\"*\", end=\"\")\n",
    "elif n < 10:\n",
    "    print(\"*\", end=\"\")\n",
    "elif n < 1:\n",
    "    print(\"*\", end=\"\")\n",
    "print()   "
   ]
  },
  {
   "cell_type": "code",
   "execution_count": 30,
   "metadata": {},
   "outputs": [
    {
     "name": "stdout",
     "output_type": "stream",
     "text": [
      "5000\n",
      "\n"
     ]
    }
   ],
   "source": [
    "n = int(input())\n",
    "if n < 1000:\n",
    "    print(\"*\", end=\"\")\n",
    "elif n < 100:\n",
    "    print(\"*\", end=\"\")\n",
    "elif n < 10:\n",
    "    print(\"*\", end=\"\")\n",
    "elif n < 1:\n",
    "    print(\"*\", end=\"\")\n",
    "print()   "
   ]
  },
  {
   "cell_type": "code",
   "execution_count": 18,
   "metadata": {},
   "outputs": [
    {
     "name": "stdout",
     "output_type": "stream",
     "text": [
      "1\n",
      "*\n"
     ]
    }
   ],
   "source": [
    "n = int(input())\n",
    "if n < 1000:\n",
    "    print(\"*\", end=\"\")\n",
    "elif n < 100:\n",
    "    print(\"*\", end=\"\")\n",
    "elif n < 10:\n",
    "    print(\"*\", end=\"\")\n",
    "elif n < 1:\n",
    "    print(\"*\", end=\"\")\n",
    "print()   "
   ]
  },
  {
   "cell_type": "markdown",
   "metadata": {},
   "source": [
    "### 6. Eliminate continue:"
   ]
  },
  {
   "cell_type": "code",
   "execution_count": 35,
   "metadata": {},
   "outputs": [
    {
     "name": "stdout",
     "output_type": "stream",
     "text": [
      "1\n",
      "x = 4\n",
      "2\n",
      "x = 3\n",
      "3\n",
      "x = 2\n",
      "4\n",
      "x = 1\n",
      "25\n",
      "25\n",
      "25\n",
      "5\n",
      "x = 0\n"
     ]
    }
   ],
   "source": [
    "x = 5\n",
    "while x > 0:\n",
    "    y = int(input())\n",
    "    if y == 25:\n",
    "        continue\n",
    "    x -= 1\n",
    "    print('x =', x)"
   ]
  },
  {
   "cell_type": "code",
   "execution_count": 7,
   "metadata": {},
   "outputs": [
    {
     "name": "stdout",
     "output_type": "stream",
     "text": [
      "1\n",
      "x = 4\n",
      "x = 3\n",
      "x = 2\n",
      "x = 1\n",
      "x = 0\n"
     ]
    }
   ],
   "source": [
    "x = 5\n",
    "y = int(input())\n",
    "while x > 0 and y != 25:\n",
    "    x -= 1\n",
    "    print('x =', x)"
   ]
  },
  {
   "cell_type": "markdown",
   "metadata": {},
   "source": [
    "### 7. Turtle triangle:"
   ]
  },
  {
   "cell_type": "code",
   "execution_count": 8,
   "metadata": {},
   "outputs": [],
   "source": [
    "import turtle\n",
    "from time import perf_counter\n",
    "\n",
    "turtle.pencolor('red')\n",
    "turtle.forward(200)\n",
    "turtle.left(120)\n",
    "turtle.pencolor('blue')\n",
    "turtle.forward(200)\n",
    "turtle.left(120)\n",
    "turtle.pencolor('green')\n",
    "turtle.forward(200)\n",
    "turtle.left(120)\n",
    "turtle.hideturtle()\n",
    "turtle.exitonclick()"
   ]
  },
  {
   "cell_type": "markdown",
   "metadata": {},
   "source": [
    "### 8. x^n"
   ]
  },
  {
   "cell_type": "code",
   "execution_count": 12,
   "metadata": {},
   "outputs": [
    {
     "name": "stdout",
     "output_type": "stream",
     "text": [
      "2\n",
      "2 \t 4 \t 8 \t 16\n",
      "\n",
      " 32 \n",
      " 64 \n",
      " 128 \n",
      " 256\n"
     ]
    }
   ],
   "source": [
    "x = int(input())\n",
    "print(x,\"\\t\",x**2,\"\\t\",x**3,\"\\t\",x**4)\n",
    "print(\"\\n\",x**5,\"\\n\",x**6,\"\\n\",x**7,\"\\n\",x**8)"
   ]
  },
  {
   "cell_type": "markdown",
   "metadata": {},
   "source": [
    "### 9. F -> C"
   ]
  },
  {
   "cell_type": "code",
   "execution_count": 14,
   "metadata": {},
   "outputs": [
    {
     "name": "stdout",
     "output_type": "stream",
     "text": [
      "Enter a Fahrenheit temperature:75\n",
      "75 F\n",
      " 23.88888888888889 C\n"
     ]
    }
   ],
   "source": [
    "f = int(input(\"Enter a Fahrenheit temperature:\"))\n",
    "c = (f - 32) * 5.0/9.0\n",
    "print(f,\"F\\n\",c,\"C\")"
   ]
  },
  {
   "cell_type": "markdown",
   "metadata": {},
   "source": [
    "### 10. @ box:"
   ]
  },
  {
   "cell_type": "code",
   "execution_count": 27,
   "metadata": {},
   "outputs": [
    {
     "name": "stdout",
     "output_type": "stream",
     "text": [
      "Enter the width:5\n",
      "Enter the length:6\n",
      "@@@@@@\n",
      "@    @\n",
      "@    @\n",
      "@    @\n",
      "@@@@@@\n"
     ]
    }
   ],
   "source": [
    "w = int(input(\"Enter the width:\"))\n",
    "l = int(input(\"Enter the length:\"))\n",
    "def box(n, m):      \n",
    "    for i in range(1, n+1): \n",
    "        for j in range(1, m+1): \n",
    "            if (i == 1 or i == n or\n",
    "                j == 1 or j == m): \n",
    "                print(\"@\", end=\"\")             \n",
    "            else : \n",
    "                print(\" \", end=\"\")                       \n",
    "        print() \n",
    "box(w, l) "
   ]
  }
 ],
 "metadata": {
  "kernelspec": {
   "display_name": "Python 3",
   "language": "python",
   "name": "python3"
  },
  "language_info": {
   "codemirror_mode": {
    "name": "ipython",
    "version": 3
   },
   "file_extension": ".py",
   "mimetype": "text/x-python",
   "name": "python",
   "nbconvert_exporter": "python",
   "pygments_lexer": "ipython3",
   "version": "3.7.3"
  }
 },
 "nbformat": 4,
 "nbformat_minor": 2
}
