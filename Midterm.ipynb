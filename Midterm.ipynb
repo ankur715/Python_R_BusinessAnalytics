{
 "cells": [
  {
   "cell_type": "code",
   "execution_count": 6,
   "metadata": {},
   "outputs": [
    {
     "name": "stdout",
     "output_type": "stream",
     "text": [
      "Enter a day of the week:Monday\n",
      "Lunes\n"
     ]
    }
   ],
   "source": [
    "# 1. spanish equivalant\n",
    "day = str(input('Enter a day of the week:'))\n",
    "if day == 'Sunday':\n",
    "    print('Domingo')\n",
    "elif day == 'Monday':\n",
    "    print('Lunes')\n",
    "elif day == 'Tuesday':\n",
    "    print('Martes')\n",
    "elif day == 'Wednesday':\n",
    "    print('Miercoles')\n",
    "elif day == 'Thursday':\n",
    "    print('Jueves')\n",
    "elif day == 'Friday':\n",
    "    print('Viernes')\n",
    "elif day == 'Saturday':\n",
    "    print('Sabado')"
   ]
  },
  {
   "cell_type": "code",
   "execution_count": 21,
   "metadata": {},
   "outputs": [
    {
     "name": "stdout",
     "output_type": "stream",
     "text": [
      "Enter a value: 1\n",
      "Enter a value: 2\n",
      "Enter a value: 55\n",
      "Enter a value: 3\n",
      "Enter a value: 0\n",
      "Maximum number: 55\n",
      "Minimum number: 0\n"
     ]
    }
   ],
   "source": [
    "# 2.\n",
    "def numbers():\n",
    "    nums = [input('Enter a value: ') for i in range(5)]\n",
    "    print(\"Maximum number:\", max(nums))\n",
    "    print(\"Minimum number:\", min(nums))\n",
    "numbers()"
   ]
  },
  {
   "cell_type": "code",
   "execution_count": 9,
   "metadata": {
    "scrolled": false
   },
   "outputs": [
    {
     "name": "stdout",
     "output_type": "stream",
     "text": [
      "Enter 20 values: 1\n",
      "Enter 20 values: 2\n",
      "Enter 20 values: 3\n",
      "Enter 20 values: 4\n",
      "Enter 20 values: 5\n",
      "Enter 20 values: 6\n",
      "Enter 20 values: 7\n",
      "Enter 20 values: 8\n",
      "Enter 20 values: 9\n",
      "Enter 20 values: 11\n",
      "Enter 20 values: 12\n",
      "Enter 20 values: 13\n",
      "Enter 20 values: 14\n",
      "Enter 20 values: 15\n",
      "Enter 20 values: 16\n",
      "Enter 20 values: 17\n",
      "Enter 20 values: 18\n",
      "Enter 20 values: 19\n",
      "Enter 20 values: 22\n",
      "Enter 20 values: 33\n",
      "Sum:  235.0\n",
      "Average:  11.75\n",
      "Maximum value:  33.0\n",
      "Minimum value:  1.0\n"
     ]
    }
   ],
   "source": [
    "# 3.\n",
    "def twenty():\n",
    "    twn = [input('Enter 20 values: ') for i in range(20)]\n",
    "    twn = [float(i) for i in twn]    \n",
    "    print(\"Sum: \", sum(map(float,twn)))\n",
    "    print(\"Average: \", sum(map(float,twn))/len(twn))\n",
    "    print(\"Maximum value: \", max(twn))\n",
    "    print(\"Minimum value: \", min(twn))\n",
    "twenty()"
   ]
  },
  {
   "cell_type": "code",
   "execution_count": 15,
   "metadata": {},
   "outputs": [
    {
     "name": "stdout",
     "output_type": "stream",
     "text": [
      "1 \t 1 \t 1 \t 1\n",
      "2 \t 4 \t 8 \t 16\n",
      "3 \t 9 \t 27 \t 81\n",
      "4 \t 16 \t 64 \t 256\n",
      "5 \t 25 \t 125 \t 625\n",
      "6 \t 36 \t 216 \t 1296\n",
      "7 \t 49 \t 343 \t 2401\n",
      "8 \t 64 \t 512 \t 4096\n",
      "9 \t 81 \t 729 \t 6561\n"
     ]
    }
   ],
   "source": [
    "# 4. \n",
    "for x in range(1,10,1):\n",
    "    print(x,\"\\t\",x**2,\"\\t\",x**3,\"\\t\",x**4)"
   ]
  },
  {
   "cell_type": "code",
   "execution_count": 20,
   "metadata": {},
   "outputs": [
    {
     "name": "stdout",
     "output_type": "stream",
     "text": [
      "Enter Hours: 45\n",
      "Enter wage: 10\n",
      "475.0\n"
     ]
    }
   ],
   "source": [
    "# 5.\n",
    "hours = input(\"Enter Hours: \")\n",
    "hours = float(hours)\n",
    "wage = input(\"Enter wage: \")\n",
    "wage = float(wage)\n",
    "if (hours > 40):\n",
    "    h = hours - 40\n",
    "    pay = (hours * wage) + (wage / 2 * h)\n",
    "else:\n",
    "    pay = hours * wage\n",
    "print(pay)"
   ]
  },
  {
   "cell_type": "code",
   "execution_count": 21,
   "metadata": {},
   "outputs": [
    {
     "name": "stdout",
     "output_type": "stream",
     "text": [
      "Input lengths of shorter triangle sides:\n",
      "a: 3\n",
      "b: 4\n",
      "The length of the hypotenuse is 5.0\n"
     ]
    }
   ],
   "source": [
    "# 6.\n",
    "from math import sqrt\n",
    "print(\"Input lengths of shorter triangle sides:\")\n",
    "a = float(input(\"a: \"))\n",
    "b = float(input(\"b: \"))\n",
    "c = sqrt(a**2 + b**2)\n",
    "print(\"The length of the hypotenuse is\", c)"
   ]
  },
  {
   "cell_type": "code",
   "execution_count": 1,
   "metadata": {},
   "outputs": [],
   "source": [
    "# 7.\n",
    "import turtle\n",
    "turtle.pencolor('red')\n",
    "turtle.forward(150)\n",
    "turtle.left(120)\n",
    "turtle.pencolor('blue')\n",
    "turtle.forward(150)\n",
    "turtle.left(120)\n",
    "turtle.pencolor('green')\n",
    "turtle.forward(150)\n",
    "turtle.left(120)\n",
    "turtle.pencolor('red')\n",
    "turtle.forward(50)\n",
    "turtle.right(60)\n",
    "turtle.pencolor('violet')\n",
    "turtle.forward(50)\n",
    "turtle.left(120)\n",
    "turtle.pencolor('black')\n",
    "turtle.forward(150)\n",
    "turtle.left(120)\n",
    "turtle.pencolor('pink')\n",
    "turtle.forward(150)\n",
    "turtle.left(120)\n",
    "turtle.pencolor('violet')\n",
    "turtle.forward(100)\n",
    "turtle.hideturtle()\n",
    "turtle.exitonclick()"
   ]
  },
  {
   "cell_type": "code",
   "execution_count": 2,
   "metadata": {},
   "outputs": [
    {
     "name": "stdout",
     "output_type": "stream",
     "text": [
      "2.0\n",
      "0\n",
      "4.0\n",
      "19683.0\n"
     ]
    }
   ],
   "source": [
    "# 8. \n",
    "print(10/5)\n",
    "print(5//10)\n",
    "print(10%4+8/4)\n",
    "print(3**10/3)"
   ]
  },
  {
   "cell_type": "code",
   "execution_count": 59,
   "metadata": {},
   "outputs": [
    {
     "name": "stdout",
     "output_type": "stream",
     "text": [
      "a. (3+4)*(7) =  49\n",
      "b. n=2;  n*(n-1)/2 = 1.0\n",
      "c. a,b = 3,5; sqrt(a*a + b*b) = 5.830951894845301\n"
     ]
    }
   ],
   "source": [
    "# 9.\n",
    "# print(\"(3+4)(7) =\", (3+4)(7))\n",
    "# print(\"(3+4)/7 =\", (3+4)/7)\n",
    "# print(\"(3+4)/7 =\", (3+4)/7)\n",
    "from math import sqrt\n",
    "print(\"a. (3+4)*(7) = \", (3+4)*(7))\n",
    "n = 2\n",
    "print(\"b. n=2;  n*(n-1)/2 =\", n*(n-1)/2)\n",
    "a,b = 3,5\n",
    "print(\"c. a,b = 3,5; sqrt(a*a + b*b) =\", sqrt(a*a + b*b))"
   ]
  },
  {
   "cell_type": "code",
   "execution_count": 11,
   "metadata": {},
   "outputs": [
    {
     "name": "stdout",
     "output_type": "stream",
     "text": [
      "Enter an angle in radians: 1\n",
      "Degrees:  57.29577951308232\n",
      "0.5403023058681398\n",
      "0.8414709848078965\n"
     ]
    }
   ],
   "source": [
    "# 10.\n",
    "import math\n",
    "num = int(input('Enter an angle in radians: '))\n",
    "print('Degrees: ', math.degrees(num))\n",
    "print(math.cos(num))\n",
    "print(math.sin(num))"
   ]
  },
  {
   "cell_type": "code",
   "execution_count": 19,
   "metadata": {
    "scrolled": true
   },
   "outputs": [
    {
     "name": "stdout",
     "output_type": "stream",
     "text": [
      "Enter a word: elephant\n",
      "Letters:  8\n",
      "Vowels:  2\n",
      "Percentage of Vowels:  25.0 %\n"
     ]
    }
   ],
   "source": [
    "#11.\n",
    "def Check_Vow(string, vowels): \n",
    "    final = [each for each in string if each in vowels] \n",
    "    print(\"Letters: \", len(string)) \n",
    "    print(\"Vowels: \", len(final))\n",
    "    print(\"Percentage of Vowels: \", (len(final)/len(string))*100, \"%\")\n",
    "    \n",
    "string = input(\"Enter a word: \")\n",
    "vowels = \"AeEeIiOoUu\"\n",
    "Check_Vow(string, vowels); "
   ]
  },
  {
   "cell_type": "code",
   "execution_count": 24,
   "metadata": {},
   "outputs": [
    {
     "name": "stdout",
     "output_type": "stream",
     "text": [
      "What is the amount of USD to convert? 100\n",
      "What is the current exchange rate? 45\n",
      "The amount in the 45.0 currency is equal to 4500.0.\n"
     ]
    }
   ],
   "source": [
    "# 12.\n",
    "def convert_currency():\n",
    "    amount = float(input(\"What is the amount of USD to convert? \"))\n",
    "    rate = float(input(\"What is the current exchange rate? \"))\n",
    "    conversion = amount * rate\n",
    "    print(\"The amount in the {} currency is equal to {}.\".format(rate, conversion))\n",
    "    \n",
    "convert_currency()"
   ]
  },
  {
   "cell_type": "code",
   "execution_count": 29,
   "metadata": {},
   "outputs": [
    {
     "name": "stdout",
     "output_type": "stream",
     "text": [
      "The divisors of 100 are: \n",
      "1 50.0\n",
      "2 25.0\n",
      "5 10.0\n"
     ]
    }
   ],
   "source": [
    "# 13.\n",
    "import math  \n",
    "def printDivisors(n) : \n",
    "    i = 1\n",
    "    while i <= math.sqrt(n): \n",
    "        if (n % i == 0) : \n",
    "            if (n / i == i) : \n",
    "                print(i) \n",
    "            else : \n",
    "                print(i , n/i) \n",
    "        i = i + 1\n",
    "print(\"The divisors of 100 are: \")\n",
    "printDivisors(50) "
   ]
  },
  {
   "cell_type": "code",
   "execution_count": 34,
   "metadata": {},
   "outputs": [
    {
     "name": "stdout",
     "output_type": "stream",
     "text": [
      " --- --- ---\n",
      "|   |   |   |   \n",
      " --- --- ---\n",
      "|   |   |   |   \n",
      " --- --- ---\n",
      "|   |   |   |   \n",
      " --- --- ---"
     ]
    }
   ],
   "source": [
    "# 14.\n",
    "for i in range(3):\n",
    "    print(\" \", end=\"\")\n",
    "    print(\"---\", end=\"\")\n",
    "print(\"\")\n",
    "for i in range(4):\n",
    "    print(\"|\", end=\"\")\n",
    "    print(\"   \", end=\"\")\n",
    "print(\"\")\n",
    "for i in range(3):\n",
    "    print(\" \", end=\"\")\n",
    "    print(\"---\", end=\"\")\n",
    "print(\"\")\n",
    "for i in range(4):\n",
    "    print(\"|\", end=\"\")\n",
    "    print(\"   \", end=\"\")\n",
    "print(\"\")\n",
    "for i in range(3):\n",
    "    print(\" \", end=\"\")\n",
    "    print(\"---\", end=\"\")\n",
    "print(\"\")\n",
    "for i in range(4):\n",
    "    print(\"|\", end=\"\")\n",
    "    print(\"   \", end=\"\")\n",
    "print(\"\")\n",
    "for i in range(3):\n",
    "    print(\" \", end=\"\")\n",
    "    print(\"---\", end=\"\")    "
   ]
  },
  {
   "cell_type": "code",
   "execution_count": 39,
   "metadata": {},
   "outputs": [
    {
     "name": "stdout",
     "output_type": "stream",
     "text": [
      "How many Fibonnaci numbers? 10\n",
      "[0, 1, 1, 2, 3, 5, 8, 13, 21, 34]\n"
     ]
    }
   ],
   "source": [
    "# 15.\n",
    "a = int(input('How many Fibonnaci numbers? '))\n",
    "def fib(n):\n",
    "    a, b = 0, 1\n",
    "    for _ in range(n):\n",
    "        yield a\n",
    "        a, b = b, a + b\n",
    "print(list(fib(a)))"
   ]
  }
 ],
 "metadata": {
  "kernelspec": {
   "display_name": "Python 3",
   "language": "python",
   "name": "python3"
  },
  "language_info": {
   "codemirror_mode": {
    "name": "ipython",
    "version": 3
   },
   "file_extension": ".py",
   "mimetype": "text/x-python",
   "name": "python",
   "nbconvert_exporter": "python",
   "pygments_lexer": "ipython3",
   "version": "3.7.3"
  }
 },
 "nbformat": 4,
 "nbformat_minor": 2
}
