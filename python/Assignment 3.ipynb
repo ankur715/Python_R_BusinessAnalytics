{
 "cells": [
  {
   "cell_type": "markdown",
   "metadata": {},
   "source": [
    "# Assignment 3 (DS-542)\n",
    "__Due on 01/06/2020 @ 6:00 PM (10 + 2 points)__\n",
    "\n",
    "\n",
    "## _Ankur Patel_"
   ]
  },
  {
   "cell_type": "markdown",
   "metadata": {},
   "source": [
    "### 1. Sort the following binary operators in order of high to low precedence: +, -, *, //, /, %, =.  (MM: 1)\n"
   ]
  },
  {
   "cell_type": "markdown",
   "metadata": {},
   "source": [
    "### *, /, //, %, +, -, ="
   ]
  },
  {
   "cell_type": "markdown",
   "metadata": {},
   "source": [
    "### 2. Given the following assignments: (MM: 3)  "
   ]
  },
  {
   "cell_type": "code",
   "execution_count": 1,
   "metadata": {},
   "outputs": [],
   "source": [
    "i1 = 2  \n",
    "i2 = 5  \n",
    "i3 = -3  \n",
    "d1 = 2.0  \n",
    "d2 = 5.0  \n",
    "d3 = -0.5  "
   ]
  },
  {
   "cell_type": "markdown",
   "metadata": {},
   "source": [
    "### Evaluate each of the following Python expressions:  \n",
    "a. i1 + i2  \n",
    "b. i1 / i2  \n",
    "c. i1 // i2  \n",
    "d. i2 / i1  \n",
    "e. i2 // i1  \n",
    "f. i1 * i3  \n",
    "g. d1 + d2  \n",
    "h. d1 / d2  \n",
    "i. d2 / d1  \n",
    "j. d3 * d1  \n",
    "k. d1 + i2  \n",
    "l. i1 / d2  \n",
    "m. i2 / d1  \n",
    "n. i1/i2*d1  \n",
    "o. d1*i1/i2  \n"
   ]
  },
  {
   "cell_type": "code",
   "execution_count": 2,
   "metadata": {},
   "outputs": [
    {
     "name": "stdout",
     "output_type": "stream",
     "text": [
      "i1 + i2 = 7\n",
      "i1 / i2 = 0.4\n",
      "i1 // i2 = 0\n",
      "i2 / i1 = 2.5\n",
      "i2 // i1 = 2\n",
      "i1 * i3 = -6\n",
      "d1 + d2 = 7.0\n",
      "d1 / d2 = 0.4\n",
      "d2 / d1 = 2.5\n",
      "d3 * d1 = -1.0\n",
      "d1 + i2 = 7.0\n",
      "i1 / d2 = 0.4\n",
      "i2 / d1 = 2.5\n",
      "i1/i2*d1 = 0.8\n",
      "d1*i1/i2 = 0.8\n"
     ]
    }
   ],
   "source": [
    "x = [i1 + i2, i1 / i2, i1 // i2, i2 / i1, i2 // i1, i1 * i3, d1 + d2, d1 / d2,\n",
    "     d2 / d1, d3 * d1, d1 + i2, i1 / d2, i2 / d1, i1/i2*d1, d1*i1/i2]\n",
    "x_name = ['i1 + i2', 'i1 / i2', 'i1 // i2', 'i2 / i1', 'i2 // i1', 'i1 * i3', 'd1 + d2', \n",
    "          'd1 / d2', 'd2 / d1', 'd3 * d1', 'd1 + i2', 'i1 / d2', 'i2 / d1', 'i1/i2*d1', 'd1*i1/i2']\n",
    "for i,j in enumerate(x):\n",
    "    print(x_name[i], \"=\", x[i])"
   ]
  },
  {
   "cell_type": "markdown",
   "metadata": {},
   "source": [
    "### 3. What is printed by the following statement: (MM: 1)\n",
    "#print(5/3)\n"
   ]
  },
  {
   "cell_type": "code",
   "execution_count": 3,
   "metadata": {},
   "outputs": [
    {
     "name": "stdout",
     "output_type": "stream",
     "text": [
      "1.6666666666666667\n"
     ]
    }
   ],
   "source": [
    "print(5/3)"
   ]
  },
  {
   "cell_type": "markdown",
   "metadata": {},
   "source": [
    "### 4. Consider the following program which contains some errors. You may assume that the comments within the program accurately describe the program’s intended behavior. (MM: 2)\n"
   ]
  },
  {
   "cell_type": "code",
   "execution_count": 4,
   "metadata": {},
   "outputs": [
    {
     "name": "stdout",
     "output_type": "stream",
     "text": [
      "4\n",
      "5\n"
     ]
    }
   ],
   "source": [
    "# Get two numbers from the user\n",
    "n1 = float(input()) \n",
    "n2 = float(input()) "
   ]
  },
  {
   "cell_type": "code",
   "execution_count": 5,
   "metadata": {},
   "outputs": [
    {
     "data": {
      "text/plain": [
       "9.0"
      ]
     },
     "execution_count": 5,
     "metadata": {},
     "output_type": "execute_result"
    }
   ],
   "source": [
    "# Compute sum of the two numbers\n",
    "n1 + n2"
   ]
  },
  {
   "cell_type": "code",
   "execution_count": 6,
   "metadata": {},
   "outputs": [
    {
     "data": {
      "text/plain": [
       "4.5"
      ]
     },
     "execution_count": 6,
     "metadata": {},
     "output_type": "execute_result"
    }
   ],
   "source": [
    "# Compute average of the two numbers\n",
    "(n1+n2)/2"
   ]
  },
  {
   "cell_type": "code",
   "execution_count": 7,
   "metadata": {},
   "outputs": [],
   "source": [
    "# Assign some variables\n",
    "d1 = d2 = 2"
   ]
  },
  {
   "cell_type": "code",
   "execution_count": 8,
   "metadata": {
    "scrolled": true
   },
   "outputs": [
    {
     "data": {
      "text/plain": [
       "2.0"
      ]
     },
     "execution_count": 8,
     "metadata": {},
     "output_type": "execute_result"
    }
   ],
   "source": [
    "# Compute a quotient\n",
    "n1//d1\n",
    "# divmod(n1,d1)"
   ]
  },
  {
   "cell_type": "code",
   "execution_count": 9,
   "metadata": {},
   "outputs": [],
   "source": [
    "# Compute a product\n",
    "d1 = n1*n2"
   ]
  },
  {
   "cell_type": "code",
   "execution_count": 10,
   "metadata": {},
   "outputs": [
    {
     "data": {
      "text/plain": [
       "20.0"
      ]
     },
     "execution_count": 10,
     "metadata": {},
     "output_type": "execute_result"
    }
   ],
   "source": [
    "# Print result\n",
    "d1"
   ]
  },
  {
   "cell_type": "markdown",
   "metadata": {},
   "source": [
    "### 5. What are syntax, run-time and logical errors? (MM: 3)\n"
   ]
  },
  {
   "cell_type": "markdown",
   "metadata": {},
   "source": [
    "Syntax errors occur when you make a typo. If we try to run the program, we will get the following error. \n",
    "\n",
    "If a program is syntactically correct – that is, free of syntax errors – it will be run by the Python interpreter. However, the program may exit unexpectedly during execution if it encounters a runtime error – a problem which was not detected when the program was parsed, but is only revealed when a particular line is executed. When a program comes to a halt because of a runtime error, we say that it has crashed.\n",
    "\n",
    "Logical errors are the most difficult to fix. They occur when the program runs without crashing, but produces an incorrect result. The error is caused by a mistake in the program’s logic. "
   ]
  },
  {
   "cell_type": "markdown",
   "metadata": {},
   "source": [
    "### _Extra Credit:_\n",
    "### 6. What is printed by the following code fragment? (MM: 2)"
   ]
  },
  {
   "cell_type": "code",
   "execution_count": 11,
   "metadata": {
    "scrolled": true
   },
   "outputs": [
    {
     "name": "stdout",
     "output_type": "stream",
     "text": [
      "3\n",
      "1\n"
     ]
    }
   ],
   "source": [
    "x1 = 2  \n",
    "x2 = 2  \n",
    "x1 += 1  \n",
    "x2 -= 1  \n",
    "print(x1)  \n",
    "print(x2)  "
   ]
  },
  {
   "cell_type": "markdown",
   "metadata": {},
   "source": [
    "#### Why does the output appear as it does?\n",
    "\n",
    "+= and -= both add and assign in the same line"
   ]
  }
 ],
 "metadata": {
  "kernelspec": {
   "display_name": "Python 3",
   "language": "python",
   "name": "python3"
  },
  "language_info": {
   "codemirror_mode": {
    "name": "ipython",
    "version": 3
   },
   "file_extension": ".py",
   "mimetype": "text/x-python",
   "name": "python",
   "nbconvert_exporter": "python",
   "pygments_lexer": "ipython3",
   "version": "3.7.3"
  }
 },
 "nbformat": 4,
 "nbformat_minor": 2
}
