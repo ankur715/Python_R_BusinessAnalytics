{
 "cells": [
  {
   "cell_type": "markdown",
   "metadata": {},
   "source": [
    "# Python"
   ]
  },
  {
   "cell_type": "markdown",
   "metadata": {},
   "source": [
    "## Menu"
   ]
  },
  {
   "cell_type": "code",
   "execution_count": 2,
   "metadata": {},
   "outputs": [
    {
     "name": "stdout",
     "output_type": "stream",
     "text": [
      "Choose a number from the list: 1\n",
      "Choose a number from the list: 2\n",
      "Choose a number from the list: 3\n",
      "Choose a number from the list: done\n",
      "The total amount to pay is: $ 6\n"
     ]
    }
   ],
   "source": [
    "list = [1,2,3,4,5,6,7,8,9,10]\n",
    "\n",
    "game_running = True\n",
    "\n",
    "total = 0\n",
    "\n",
    "while game_running:\n",
    "    user = input(\"Choose a number from the list: \")\n",
    "    if user == \"done\":\n",
    "        break\n",
    "    \n",
    "    total = total+int(user)\n",
    "    \n",
    "print(\"The total amount to pay is: $\", total)    \n",
    "    \n",
    "############ print out what they ordered"
   ]
  },
  {
   "cell_type": "markdown",
   "metadata": {},
   "source": [
    "## Capitalize Words"
   ]
  },
  {
   "cell_type": "code",
   "execution_count": 34,
   "metadata": {},
   "outputs": [
    {
     "name": "stdout",
     "output_type": "stream",
     "text": [
      "Input a sentence: this class is my favorite!\n"
     ]
    },
    {
     "data": {
      "text/plain": [
       "'THIS class is my favorite!'"
      ]
     },
     "execution_count": 34,
     "metadata": {},
     "output_type": "execute_result"
    }
   ],
   "source": [
    "sentence = input(\"Input a sentence: \")\n",
    "\n",
    "sentence.split(' ', 1)[0].upper()\n",
    "\n",
    "len(sentence.split())\n",
    "\n",
    "first = sentence.split(' ', 1)[0].upper() \n",
    "first\n",
    "\n",
    "sentence.split(' ', 1)[1:]\n",
    "\n",
    "sentence2 = sentence.split(' ', len(a.split()))[1:]\n",
    "\n",
    "sentence2.insert(0, first)\n",
    "\n",
    "sentence2\n",
    "\n",
    "sentence2 = ' '.join(word for word in sentence2)\n",
    "sentence2"
   ]
  },
  {
   "cell_type": "code",
   "execution_count": 40,
   "metadata": {},
   "outputs": [
    {
     "name": "stdout",
     "output_type": "stream",
     "text": [
      "this is the sentence to capitalize\n",
      "ThIs Is The Sentence To Capitalize\n"
     ]
    }
   ],
   "source": [
    "s = input()\n",
    "for x in s[:].split():\n",
    "    s = s.replace(x, x.capitalize())\n",
    "print(s)"
   ]
  },
  {
   "cell_type": "code",
   "execution_count": 41,
   "metadata": {},
   "outputs": [
    {
     "name": "stdout",
     "output_type": "stream",
     "text": [
      "look at all these capital letters!\n",
      "Look At All These Capital Letters!\n"
     ]
    }
   ],
   "source": [
    "a_string = input().split(' ')\n",
    "print(' '.join((word.capitalize() for word in a_string)))"
   ]
  },
  {
   "cell_type": "markdown",
   "metadata": {},
   "source": [
    "## Total Money In My Pocket"
   ]
  },
  {
   "cell_type": "code",
   "execution_count": 51,
   "metadata": {},
   "outputs": [
    {
     "name": "stdout",
     "output_type": "stream",
     "text": [
      "Number of pennies: 1\n",
      "Number of nickels: 2\n",
      "Number of dimes: 3\n",
      "Number of quarters: 4\n",
      "Number of dollar bills: 5\n",
      "Number of five dollar bills: 6\n",
      "Number of ten dollar bills: 7\n",
      "Number of twenty dollar bills: 8\n",
      "Number of fifty dollar bills: 9\n",
      "Number of hundred dollar bills: 10\n",
      "\n",
      "You have $1716.41 in total\n"
     ]
    }
   ],
   "source": [
    "pen = int(float(input(\"Number of pennies: \")))\n",
    "nick = int(float(input(\"Number of nickels: \")))\n",
    "dimes = int(float(input(\"Number of dimes: \")))\n",
    "quart = int(float(input(\"Number of quarters: \")))\n",
    "doll = int(float(input(\"Number of dollar bills: \")))\n",
    "fives = int(float(input(\"Number of five dollar bills: \")))\n",
    "tens = int(float(input(\"Number of ten dollar bills: \")))\n",
    "twnts = int(float(input(\"Number of twenty dollar bills: \")))\n",
    "fts = int(float(input(\"Number of fifty dollar bills: \")))\n",
    "hnds = int(float(input(\"Number of hundred dollar bills: \")))\n",
    "\n",
    "total = hnds*100 + fts*50 + twnts*20 + tens*10 + fives*5 + \\\n",
    "        doll*1 + quart*0.25 + dimes*0.1 + nick*0.05 + pen*0.01\n",
    "\n",
    "total = round(total, 2)\n",
    "\n",
    "print(\"\")\n",
    "print(\"You have ${} in total\".format(total))"
   ]
  },
  {
   "cell_type": "markdown",
   "metadata": {},
   "source": [
    "## Trivia Quiz"
   ]
  },
  {
   "cell_type": "code",
   "execution_count": 53,
   "metadata": {},
   "outputs": [
    {
     "name": "stdout",
     "output_type": "stream",
     "text": [
      "Which country is Toronto in? Canada\n",
      "Correct\n",
      "Which country is Paris in? F\n",
      "Which country is Tokyo in? G\n",
      "Pass\n"
     ]
    }
   ],
   "source": [
    "correct = 0\n",
    "\n",
    "q1 = input(\"Which country is Toronto in? \")\n",
    "if q1 == \"Canada\":\n",
    "    correct+=1\n",
    "    print(\"Correct\")\n",
    "    \n",
    "q2 = input(\"Which country is Paris in? \")\n",
    "if q1 == \"France\":\n",
    "    correct+=1\n",
    "    print(\"Correct\")\n",
    "    \n",
    "q3 = input(\"Which country is Tokyo in? \")\n",
    "if q1 == \"Japan\":\n",
    "    correct+=1\n",
    "    print(\"Correct\")\n",
    "    \n",
    "if correct >= 1:\n",
    "    print(\"PASS\")\n",
    "else:\n",
    "    print(\"FAIL\")"
   ]
  },
  {
   "cell_type": "markdown",
   "metadata": {},
   "source": [
    "## Password Validator"
   ]
  },
  {
   "cell_type": "code",
   "execution_count": 59,
   "metadata": {},
   "outputs": [
    {
     "name": "stdout",
     "output_type": "stream",
     "text": [
      "Enter lowercase & uppercase letters, digits, and one character\n",
      " from [$#!_@] as a password: Ankur123!\n",
      "Your password is valid!\n"
     ]
    }
   ],
   "source": [
    "password = input(\"Enter lowercase & uppercase letters, digits, and one character\\n from [$#!_@] as a password: \")\n",
    "\n",
    "import re \n",
    "while True:   \n",
    "    if not re.search(\"[a-z]\", password): \n",
    "        print(\"Need at least 1 lowercase letter\")\n",
    "        break\n",
    "    elif not re.search(\"[A-Z]\", password): \n",
    "        print(\"Need at least 1 uppercase letter\")\n",
    "        break\n",
    "    elif not re.search(\"[0-9]\", password): \n",
    "        print(\"Need at least 1 number 0-9\")\n",
    "        break\n",
    "    elif not re.search(\"[$#!_@]\", password): \n",
    "        print(\"Need at least 1 character from this list: [$#!_@]\")\n",
    "        break\n",
    "    elif (len(password)>12): \n",
    "        print(\"Maximum Length: 12 characters\")\n",
    "        break\n",
    "    elif (len(password)<6): \n",
    "        print(\"Minimum Length: 6 characters\")\n",
    "        break\n",
    "    elif re.search(\"\\s\", password): \n",
    "        print(\"No Spaces\")\n",
    "        break\n",
    "    else: \n",
    "        print(\"Your password is valid!\") \n",
    "        break\n"
   ]
  },
  {
   "cell_type": "markdown",
   "metadata": {},
   "source": [
    "## Calculator"
   ]
  },
  {
   "cell_type": "code",
   "execution_count": 62,
   "metadata": {},
   "outputs": [
    {
     "name": "stdout",
     "output_type": "stream",
     "text": [
      "Enter an integer: 7\n",
      "Enter a second integer: 4\n",
      "7 + 4 = 11\n",
      "7 - 4 = 3\n",
      "7 * 4 = 28\n",
      "7 / 4 = 1\n"
     ]
    }
   ],
   "source": [
    "first = int(input(\"Enter an integer: \"))\n",
    "second = int(input(\"Enter a second integer: \"))\n",
    "print(first, \"+\", second, \"=\", int(first+second))\n",
    "print(first, \"-\", second, \"=\", int(first-second))\n",
    "print(first, \"*\", second, \"=\", int(first*second))\n",
    "print(first, \"/\", second, \"=\", int(first/second))"
   ]
  },
  {
   "cell_type": "markdown",
   "metadata": {},
   "source": [
    "# End"
   ]
  }
 ],
 "metadata": {
  "kernelspec": {
   "display_name": "Python 3",
   "language": "python",
   "name": "python3"
  }
 },
 "nbformat": 4,
 "nbformat_minor": 2
}
