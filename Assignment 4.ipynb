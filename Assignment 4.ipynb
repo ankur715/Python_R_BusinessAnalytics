{
 "cells": [
  {
   "cell_type": "markdown",
   "metadata": {},
   "source": [
    "# Assignment 4 (DS-542)\n",
    "__Due on 01/013/2020 @ 6:00 PM (10 + 2 points)__\n",
    "\n",
    "\n",
    "## _Ankur Patel_"
   ]
  },
  {
   "cell_type": "markdown",
   "metadata": {},
   "source": [
    "### For questions 1 and 2 please refer the following image\n",
    "![](asgn4_1,2.jpg)"
   ]
  },
  {
   "cell_type": "code",
   "execution_count": 2,
   "metadata": {},
   "outputs": [
    {
     "name": "stdout",
     "output_type": "stream",
     "text": [
      "Enter numbers to sum, negative number ends list:\n",
      "1\n",
      "100\n",
      "-1\n",
      "Sum = 101\n"
     ]
    }
   ],
   "source": [
    "entry = 0\n",
    "sum = 0\n",
    "print(\"Enter numbers to sum, negative number ends list:\")\n",
    "while entry >= 0:\n",
    "    entry = int(input())\n",
    "    if entry >= 0:\n",
    "        sum += entry\n",
    "print(\"Sum =\", sum)"
   ]
  },
  {
   "cell_type": "markdown",
   "metadata": {},
   "source": [
    "### 1. Could the condition of the if statement have used > instead of >= and achieved the same results? Why? (MM: 1)\n",
    "\n",
    "Yes.   \n",
    "The input number of 0 wouldn't make a change in the sum so it'll return same with >= 0."
   ]
  },
  {
   "cell_type": "code",
   "execution_count": 11,
   "metadata": {},
   "outputs": [
    {
     "name": "stdout",
     "output_type": "stream",
     "text": [
      "Enter numbers to sum, negative number ends list:\n",
      "0\n",
      "1\n",
      "100\n",
      "-1\n",
      "Sum = 101\n"
     ]
    }
   ],
   "source": [
    "entry = 0\n",
    "sum = 0\n",
    "print(\"Enter numbers to sum, negative number ends list:\")\n",
    "while entry >= 0:\n",
    "    entry = int(input())\n",
    "    if entry > 0:\n",
    "        sum += entry\n",
    "print(\"Sum =\", sum)"
   ]
  },
  {
   "cell_type": "markdown",
   "metadata": {},
   "source": [
    "### 2. Could the condition of the while statement have used > instead of >= and achieved the same results? Why? (MM: 1)\n",
    "\n",
    "No.   \n",
    "The entry is initially defined as 0, and since it's not >0, it doesn't execute the addition."
   ]
  },
  {
   "cell_type": "code",
   "execution_count": 8,
   "metadata": {},
   "outputs": [
    {
     "name": "stdout",
     "output_type": "stream",
     "text": [
      "Enter numbers to sum, negative number ends list:\n",
      "Sum = 0\n"
     ]
    }
   ],
   "source": [
    "entry = 0\n",
    "sum = 0\n",
    "print(\"Enter numbers to sum, negative number ends list:\")\n",
    "while entry > 0:\n",
    "    entry = int(input())\n",
    "    if entry >= 0:\n",
    "        sum += entry\n",
    "print(\"Sum =\", sum)"
   ]
  },
  {
   "cell_type": "markdown",
   "metadata": {},
   "source": [
    "### 3. How many asterisks does the following code fragment print? (MM: 1)\n",
    "\n",
    "![](asgn4_3.jpg)\n",
    "\n",
    "2000 asterisks"
   ]
  },
  {
   "cell_type": "code",
   "execution_count": 19,
   "metadata": {
    "scrolled": true
   },
   "outputs": [
    {
     "name": "stdout",
     "output_type": "stream",
     "text": [
      "********************\n",
      "********************\n",
      "********************\n",
      "********************\n",
      "********************\n",
      "********************\n",
      "********************\n",
      "********************\n",
      "********************\n",
      "********************\n",
      "********************\n",
      "********************\n",
      "********************\n",
      "********************\n",
      "********************\n",
      "********************\n",
      "********************\n",
      "********************\n",
      "********************\n",
      "********************\n",
      "********************\n",
      "********************\n",
      "********************\n",
      "********************\n",
      "********************\n",
      "********************\n",
      "********************\n",
      "********************\n",
      "********************\n",
      "********************\n",
      "********************\n",
      "********************\n",
      "********************\n",
      "********************\n",
      "********************\n",
      "********************\n",
      "********************\n",
      "********************\n",
      "********************\n",
      "********************\n",
      "********************\n",
      "********************\n",
      "********************\n",
      "********************\n",
      "********************\n",
      "********************\n",
      "********************\n",
      "********************\n",
      "********************\n",
      "********************\n",
      "********************\n",
      "********************\n",
      "********************\n",
      "********************\n",
      "********************\n",
      "********************\n",
      "********************\n",
      "********************\n",
      "********************\n",
      "********************\n",
      "********************\n",
      "********************\n",
      "********************\n",
      "********************\n",
      "********************\n",
      "********************\n",
      "********************\n",
      "********************\n",
      "********************\n",
      "********************\n",
      "********************\n",
      "********************\n",
      "********************\n",
      "********************\n",
      "********************\n",
      "********************\n",
      "********************\n",
      "********************\n",
      "********************\n",
      "********************\n",
      "********************\n",
      "********************\n",
      "********************\n",
      "********************\n",
      "********************\n",
      "********************\n",
      "********************\n",
      "********************\n",
      "********************\n",
      "********************\n",
      "********************\n",
      "********************\n",
      "********************\n",
      "********************\n",
      "********************\n",
      "********************\n",
      "********************\n",
      "********************\n",
      "********************\n",
      "********************\n"
     ]
    }
   ],
   "source": [
    "a = 0\n",
    "c = 0\n",
    "while a < 100:\n",
    "    b = 0\n",
    "    while b < 40:\n",
    "        if (a+b) % 2 == 0:\n",
    "            print('*', end='')\n",
    "            c += 1\n",
    "        b += 1\n",
    "    print()\n",
    "    a += 1"
   ]
  },
  {
   "cell_type": "code",
   "execution_count": 20,
   "metadata": {},
   "outputs": [
    {
     "data": {
      "text/plain": [
       "2000"
      ]
     },
     "execution_count": 20,
     "metadata": {},
     "output_type": "execute_result"
    }
   ],
   "source": [
    "c"
   ]
  },
  {
   "cell_type": "markdown",
   "metadata": {},
   "source": [
    "### 4. What is a shorter way to express range (0, 5, 1)? (MM: 1)\n",
    "\n",
    "range(5)  \n",
    "range(start, stop, step)\n"
   ]
  },
  {
   "cell_type": "code",
   "execution_count": 25,
   "metadata": {},
   "outputs": [
    {
     "name": "stdout",
     "output_type": "stream",
     "text": [
      "range(0, 5)\n",
      "range(0, 5)\n"
     ]
    }
   ],
   "source": [
    "print(range(0,5,1))\n",
    "print(range(5))"
   ]
  },
  {
   "cell_type": "markdown",
   "metadata": {},
   "source": [
    "### 5. Provide the exact sequence of integers specified by each of the following range expressions. (MM: 3)\n",
    "i. range (5)  \n",
    "ii. range (5, 10)  \n",
    "iii. range (5, 20, 3)  \n",
    "iv. range (20, 5, -1)  \n",
    "v. range (20, 5, -3)  \n",
    "vi. range (10, 5)  \n"
   ]
  },
  {
   "cell_type": "code",
   "execution_count": 33,
   "metadata": {},
   "outputs": [
    {
     "name": "stdout",
     "output_type": "stream",
     "text": [
      "range(0, 5)\n",
      "0\n",
      "1\n",
      "2\n",
      "3\n",
      "4\n"
     ]
    }
   ],
   "source": [
    "print(range(5))\n",
    "for i in range(5):\n",
    "    print(i)"
   ]
  },
  {
   "cell_type": "code",
   "execution_count": 34,
   "metadata": {},
   "outputs": [
    {
     "name": "stdout",
     "output_type": "stream",
     "text": [
      "range(5, 10)\n",
      "5\n",
      "6\n",
      "7\n",
      "8\n",
      "9\n"
     ]
    }
   ],
   "source": [
    "print(range(5,10))\n",
    "for i in range(5,10):\n",
    "    print(i)"
   ]
  },
  {
   "cell_type": "code",
   "execution_count": 35,
   "metadata": {},
   "outputs": [
    {
     "name": "stdout",
     "output_type": "stream",
     "text": [
      "range(5, 20, 3)\n",
      "5\n",
      "8\n",
      "11\n",
      "14\n",
      "17\n"
     ]
    }
   ],
   "source": [
    "print(range(5,20,3))\n",
    "for i in range(5,20,3):\n",
    "    print(i)"
   ]
  },
  {
   "cell_type": "code",
   "execution_count": 36,
   "metadata": {},
   "outputs": [
    {
     "name": "stdout",
     "output_type": "stream",
     "text": [
      "range(20, 5, -1)\n",
      "20\n",
      "19\n",
      "18\n",
      "17\n",
      "16\n",
      "15\n",
      "14\n",
      "13\n",
      "12\n",
      "11\n",
      "10\n",
      "9\n",
      "8\n",
      "7\n",
      "6\n"
     ]
    }
   ],
   "source": [
    "print(range(20,5,-1))\n",
    "for i in range(20,5,-1):\n",
    "    print(i)"
   ]
  },
  {
   "cell_type": "code",
   "execution_count": 37,
   "metadata": {},
   "outputs": [
    {
     "name": "stdout",
     "output_type": "stream",
     "text": [
      "range(20, 5, -3)\n",
      "20\n",
      "17\n",
      "14\n",
      "11\n",
      "8\n"
     ]
    }
   ],
   "source": [
    "print(range(20,5,-3))\n",
    "for i in range(20,5,-3):\n",
    "    print(i)"
   ]
  },
  {
   "cell_type": "code",
   "execution_count": 41,
   "metadata": {},
   "outputs": [
    {
     "name": "stdout",
     "output_type": "stream",
     "text": [
      "range(10, 5)\n"
     ]
    }
   ],
   "source": [
    "print(range(10,5))\n",
    "for i in range(10,5):\n",
    "    print(i)\n",
    "# no negative step and 5 is less than 10"
   ]
  },
  {
   "cell_type": "markdown",
   "metadata": {},
   "source": [
    "### 6. How many asterisks does the following code fragment print? (MM: 1)\n",
    "![](asgn4_6.jpg)"
   ]
  },
  {
   "cell_type": "code",
   "execution_count": 52,
   "metadata": {},
   "outputs": [
    {
     "name": "stdout",
     "output_type": "stream",
     "text": [
      "********************************************************************************************************************************************************************************************************\n",
      " 200\n",
      "200\n"
     ]
    }
   ],
   "source": [
    "b = 0\n",
    "for a in range(-100,100):\n",
    "    print('*', end='')\n",
    "    b += 1\n",
    "print('\\n', b)\n",
    "print(len(range(-100,100)))"
   ]
  },
  {
   "cell_type": "markdown",
   "metadata": {},
   "source": [
    "### 7. Write a Python program that accepts an integer value entered by the user. If the value entered is less than one, the program prints nothing. If the user enters a positive integer, n, the program prints “You entered a positive integer” and if the user enters a negative integer, n, the prints “You entered a negative integer”. (MM: 2)\n"
   ]
  },
  {
   "cell_type": "code",
   "execution_count": 54,
   "metadata": {},
   "outputs": [
    {
     "name": "stdout",
     "output_type": "stream",
     "text": [
      "1\n",
      "You entered a positive integer\n"
     ]
    }
   ],
   "source": [
    "a = int(input())\n",
    "if a < 1:\n",
    "    None\n",
    "if a > 0:\n",
    "    print(\"You entered a positive integer\")\n",
    "if a < 0:\n",
    "    print(\"You entered a negative integer\")"
   ]
  },
  {
   "cell_type": "code",
   "execution_count": 58,
   "metadata": {},
   "outputs": [
    {
     "name": "stdout",
     "output_type": "stream",
     "text": [
      "0\n"
     ]
    }
   ],
   "source": [
    "a = int(input())\n",
    "if a < 1:\n",
    "    None\n",
    "if a > 0:\n",
    "    print(\"You entered a positive integer\")\n",
    "if a < 0:\n",
    "    print(\"You entered a negative integer\")"
   ]
  },
  {
   "cell_type": "code",
   "execution_count": 59,
   "metadata": {},
   "outputs": [
    {
     "name": "stdout",
     "output_type": "stream",
     "text": [
      "-1\n",
      "You entered a negative integer\n"
     ]
    }
   ],
   "source": [
    "a = int(input())\n",
    "if a < 1:\n",
    "    None\n",
    "if a > 0:\n",
    "    print(\"You entered a positive integer\")\n",
    "if a < 0:\n",
    "    print(\"You entered a negative integer\")"
   ]
  },
  {
   "cell_type": "markdown",
   "metadata": {},
   "source": [
    "### _Extra Credit: (MM: 2)_\n",
    "### 8. Write a Python program to print the following set of asterisks \n",
    "![](asgn4_8.jpg)"
   ]
  },
  {
   "cell_type": "code",
   "execution_count": 67,
   "metadata": {},
   "outputs": [
    {
     "name": "stdout",
     "output_type": "stream",
     "text": [
      "*\n",
      "**\n",
      "***\n",
      "****\n",
      "*****\n",
      "******\n",
      "*******\n",
      "********\n",
      "*******\n",
      "******\n",
      "*****\n",
      "****\n",
      "***\n",
      "**\n",
      "*\n"
     ]
    }
   ],
   "source": [
    "for i in range(1,8):\n",
    "    print(\"*\"*i)\n",
    "for i in range(8,0,-1):\n",
    "    print(\"*\"*i)"
   ]
  }
 ],
 "metadata": {
  "kernelspec": {
   "display_name": "Python 3",
   "language": "python",
   "name": "python3"
  },
  "language_info": {
   "codemirror_mode": {
    "name": "ipython",
    "version": 3
   },
   "file_extension": ".py",
   "mimetype": "text/x-python",
   "name": "python",
   "nbconvert_exporter": "python",
   "pygments_lexer": "ipython3",
   "version": "3.7.3"
  }
 },
 "nbformat": 4,
 "nbformat_minor": 2
}
